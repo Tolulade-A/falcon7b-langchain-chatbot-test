{
  "nbformat": 4,
  "nbformat_minor": 0,
  "metadata": {
    "colab": {
      "provenance": [],
      "gpuType": "T4",
      "authorship_tag": "ABX9TyO1SShwzUZcuzHhRS1ICKpd",
      "include_colab_link": true
    },
    "kernelspec": {
      "name": "python3",
      "display_name": "Python 3"
    },
    "language_info": {
      "name": "python"
    },
    "accelerator": "GPU",
    "widgets": {
      "application/vnd.jupyter.widget-state+json": {
        "4777fd569fce48c09a97636191a03cb1": {
          "model_module": "@jupyter-widgets/controls",
          "model_name": "HBoxModel",
          "model_module_version": "1.5.0",
          "state": {
            "_dom_classes": [],
            "_model_module": "@jupyter-widgets/controls",
            "_model_module_version": "1.5.0",
            "_model_name": "HBoxModel",
            "_view_count": null,
            "_view_module": "@jupyter-widgets/controls",
            "_view_module_version": "1.5.0",
            "_view_name": "HBoxView",
            "box_style": "",
            "children": [
              "IPY_MODEL_709c5a204f194baf8bf194565f0f7682",
              "IPY_MODEL_72c1cfd1e0ea496d98b191efebe78a17",
              "IPY_MODEL_4083d65d650941af8b5aab829b1bba20"
            ],
            "layout": "IPY_MODEL_72964d8a34da4ca08df2c58b9034341d"
          }
        },
        "709c5a204f194baf8bf194565f0f7682": {
          "model_module": "@jupyter-widgets/controls",
          "model_name": "HTMLModel",
          "model_module_version": "1.5.0",
          "state": {
            "_dom_classes": [],
            "_model_module": "@jupyter-widgets/controls",
            "_model_module_version": "1.5.0",
            "_model_name": "HTMLModel",
            "_view_count": null,
            "_view_module": "@jupyter-widgets/controls",
            "_view_module_version": "1.5.0",
            "_view_name": "HTMLView",
            "description": "",
            "description_tooltip": null,
            "layout": "IPY_MODEL_45c3e4dc4e8b4958a4b75dad0249e271",
            "placeholder": "​",
            "style": "IPY_MODEL_f70a4b04f63e449da07bede9fc000adc",
            "value": "Loading checkpoint shards: 100%"
          }
        },
        "72c1cfd1e0ea496d98b191efebe78a17": {
          "model_module": "@jupyter-widgets/controls",
          "model_name": "FloatProgressModel",
          "model_module_version": "1.5.0",
          "state": {
            "_dom_classes": [],
            "_model_module": "@jupyter-widgets/controls",
            "_model_module_version": "1.5.0",
            "_model_name": "FloatProgressModel",
            "_view_count": null,
            "_view_module": "@jupyter-widgets/controls",
            "_view_module_version": "1.5.0",
            "_view_name": "ProgressView",
            "bar_style": "success",
            "description": "",
            "description_tooltip": null,
            "layout": "IPY_MODEL_f4cedfa50bd24e4c8f4b3967b86f5dc9",
            "max": 15,
            "min": 0,
            "orientation": "horizontal",
            "style": "IPY_MODEL_981ef25b84f54ed8bcd855f8de4619c5",
            "value": 15
          }
        },
        "4083d65d650941af8b5aab829b1bba20": {
          "model_module": "@jupyter-widgets/controls",
          "model_name": "HTMLModel",
          "model_module_version": "1.5.0",
          "state": {
            "_dom_classes": [],
            "_model_module": "@jupyter-widgets/controls",
            "_model_module_version": "1.5.0",
            "_model_name": "HTMLModel",
            "_view_count": null,
            "_view_module": "@jupyter-widgets/controls",
            "_view_module_version": "1.5.0",
            "_view_name": "HTMLView",
            "description": "",
            "description_tooltip": null,
            "layout": "IPY_MODEL_c4f62e8fe49a4c849b035ad6e06905b9",
            "placeholder": "​",
            "style": "IPY_MODEL_a0587ed0d8924fbf8b88e05fba4e3a9c",
            "value": " 15/15 [02:11&lt;00:00,  7.50s/it]"
          }
        },
        "72964d8a34da4ca08df2c58b9034341d": {
          "model_module": "@jupyter-widgets/base",
          "model_name": "LayoutModel",
          "model_module_version": "1.2.0",
          "state": {
            "_model_module": "@jupyter-widgets/base",
            "_model_module_version": "1.2.0",
            "_model_name": "LayoutModel",
            "_view_count": null,
            "_view_module": "@jupyter-widgets/base",
            "_view_module_version": "1.2.0",
            "_view_name": "LayoutView",
            "align_content": null,
            "align_items": null,
            "align_self": null,
            "border": null,
            "bottom": null,
            "display": null,
            "flex": null,
            "flex_flow": null,
            "grid_area": null,
            "grid_auto_columns": null,
            "grid_auto_flow": null,
            "grid_auto_rows": null,
            "grid_column": null,
            "grid_gap": null,
            "grid_row": null,
            "grid_template_areas": null,
            "grid_template_columns": null,
            "grid_template_rows": null,
            "height": null,
            "justify_content": null,
            "justify_items": null,
            "left": null,
            "margin": null,
            "max_height": null,
            "max_width": null,
            "min_height": null,
            "min_width": null,
            "object_fit": null,
            "object_position": null,
            "order": null,
            "overflow": null,
            "overflow_x": null,
            "overflow_y": null,
            "padding": null,
            "right": null,
            "top": null,
            "visibility": null,
            "width": null
          }
        },
        "45c3e4dc4e8b4958a4b75dad0249e271": {
          "model_module": "@jupyter-widgets/base",
          "model_name": "LayoutModel",
          "model_module_version": "1.2.0",
          "state": {
            "_model_module": "@jupyter-widgets/base",
            "_model_module_version": "1.2.0",
            "_model_name": "LayoutModel",
            "_view_count": null,
            "_view_module": "@jupyter-widgets/base",
            "_view_module_version": "1.2.0",
            "_view_name": "LayoutView",
            "align_content": null,
            "align_items": null,
            "align_self": null,
            "border": null,
            "bottom": null,
            "display": null,
            "flex": null,
            "flex_flow": null,
            "grid_area": null,
            "grid_auto_columns": null,
            "grid_auto_flow": null,
            "grid_auto_rows": null,
            "grid_column": null,
            "grid_gap": null,
            "grid_row": null,
            "grid_template_areas": null,
            "grid_template_columns": null,
            "grid_template_rows": null,
            "height": null,
            "justify_content": null,
            "justify_items": null,
            "left": null,
            "margin": null,
            "max_height": null,
            "max_width": null,
            "min_height": null,
            "min_width": null,
            "object_fit": null,
            "object_position": null,
            "order": null,
            "overflow": null,
            "overflow_x": null,
            "overflow_y": null,
            "padding": null,
            "right": null,
            "top": null,
            "visibility": null,
            "width": null
          }
        },
        "f70a4b04f63e449da07bede9fc000adc": {
          "model_module": "@jupyter-widgets/controls",
          "model_name": "DescriptionStyleModel",
          "model_module_version": "1.5.0",
          "state": {
            "_model_module": "@jupyter-widgets/controls",
            "_model_module_version": "1.5.0",
            "_model_name": "DescriptionStyleModel",
            "_view_count": null,
            "_view_module": "@jupyter-widgets/base",
            "_view_module_version": "1.2.0",
            "_view_name": "StyleView",
            "description_width": ""
          }
        },
        "f4cedfa50bd24e4c8f4b3967b86f5dc9": {
          "model_module": "@jupyter-widgets/base",
          "model_name": "LayoutModel",
          "model_module_version": "1.2.0",
          "state": {
            "_model_module": "@jupyter-widgets/base",
            "_model_module_version": "1.2.0",
            "_model_name": "LayoutModel",
            "_view_count": null,
            "_view_module": "@jupyter-widgets/base",
            "_view_module_version": "1.2.0",
            "_view_name": "LayoutView",
            "align_content": null,
            "align_items": null,
            "align_self": null,
            "border": null,
            "bottom": null,
            "display": null,
            "flex": null,
            "flex_flow": null,
            "grid_area": null,
            "grid_auto_columns": null,
            "grid_auto_flow": null,
            "grid_auto_rows": null,
            "grid_column": null,
            "grid_gap": null,
            "grid_row": null,
            "grid_template_areas": null,
            "grid_template_columns": null,
            "grid_template_rows": null,
            "height": null,
            "justify_content": null,
            "justify_items": null,
            "left": null,
            "margin": null,
            "max_height": null,
            "max_width": null,
            "min_height": null,
            "min_width": null,
            "object_fit": null,
            "object_position": null,
            "order": null,
            "overflow": null,
            "overflow_x": null,
            "overflow_y": null,
            "padding": null,
            "right": null,
            "top": null,
            "visibility": null,
            "width": null
          }
        },
        "981ef25b84f54ed8bcd855f8de4619c5": {
          "model_module": "@jupyter-widgets/controls",
          "model_name": "ProgressStyleModel",
          "model_module_version": "1.5.0",
          "state": {
            "_model_module": "@jupyter-widgets/controls",
            "_model_module_version": "1.5.0",
            "_model_name": "ProgressStyleModel",
            "_view_count": null,
            "_view_module": "@jupyter-widgets/base",
            "_view_module_version": "1.2.0",
            "_view_name": "StyleView",
            "bar_color": null,
            "description_width": ""
          }
        },
        "c4f62e8fe49a4c849b035ad6e06905b9": {
          "model_module": "@jupyter-widgets/base",
          "model_name": "LayoutModel",
          "model_module_version": "1.2.0",
          "state": {
            "_model_module": "@jupyter-widgets/base",
            "_model_module_version": "1.2.0",
            "_model_name": "LayoutModel",
            "_view_count": null,
            "_view_module": "@jupyter-widgets/base",
            "_view_module_version": "1.2.0",
            "_view_name": "LayoutView",
            "align_content": null,
            "align_items": null,
            "align_self": null,
            "border": null,
            "bottom": null,
            "display": null,
            "flex": null,
            "flex_flow": null,
            "grid_area": null,
            "grid_auto_columns": null,
            "grid_auto_flow": null,
            "grid_auto_rows": null,
            "grid_column": null,
            "grid_gap": null,
            "grid_row": null,
            "grid_template_areas": null,
            "grid_template_columns": null,
            "grid_template_rows": null,
            "height": null,
            "justify_content": null,
            "justify_items": null,
            "left": null,
            "margin": null,
            "max_height": null,
            "max_width": null,
            "min_height": null,
            "min_width": null,
            "object_fit": null,
            "object_position": null,
            "order": null,
            "overflow": null,
            "overflow_x": null,
            "overflow_y": null,
            "padding": null,
            "right": null,
            "top": null,
            "visibility": null,
            "width": null
          }
        },
        "a0587ed0d8924fbf8b88e05fba4e3a9c": {
          "model_module": "@jupyter-widgets/controls",
          "model_name": "DescriptionStyleModel",
          "model_module_version": "1.5.0",
          "state": {
            "_model_module": "@jupyter-widgets/controls",
            "_model_module_version": "1.5.0",
            "_model_name": "DescriptionStyleModel",
            "_view_count": null,
            "_view_module": "@jupyter-widgets/base",
            "_view_module_version": "1.2.0",
            "_view_name": "StyleView",
            "description_width": ""
          }
        },
        "89121ebd657640f6ad63ed222abeca5e": {
          "model_module": "@jupyter-widgets/controls",
          "model_name": "HBoxModel",
          "model_module_version": "1.5.0",
          "state": {
            "_dom_classes": [],
            "_model_module": "@jupyter-widgets/controls",
            "_model_module_version": "1.5.0",
            "_model_name": "HBoxModel",
            "_view_count": null,
            "_view_module": "@jupyter-widgets/controls",
            "_view_module_version": "1.5.0",
            "_view_name": "HBoxView",
            "box_style": "",
            "children": [
              "IPY_MODEL_8832427016734a189a8bd96203249c02",
              "IPY_MODEL_502ee60f504c4eb98f1947a90e947dbc",
              "IPY_MODEL_49f6f0b5b9f84d6dab893fadaa1c417b"
            ],
            "layout": "IPY_MODEL_8ad55c676e44476d9ea617eb53aa2cc6"
          }
        },
        "8832427016734a189a8bd96203249c02": {
          "model_module": "@jupyter-widgets/controls",
          "model_name": "HTMLModel",
          "model_module_version": "1.5.0",
          "state": {
            "_dom_classes": [],
            "_model_module": "@jupyter-widgets/controls",
            "_model_module_version": "1.5.0",
            "_model_name": "HTMLModel",
            "_view_count": null,
            "_view_module": "@jupyter-widgets/controls",
            "_view_module_version": "1.5.0",
            "_view_name": "HTMLView",
            "description": "",
            "description_tooltip": null,
            "layout": "IPY_MODEL_844072e80ad648268523371f15af3567",
            "placeholder": "​",
            "style": "IPY_MODEL_5ab2fffff7cd4c368f12b93ba69271d5",
            "value": "Loading checkpoint shards: 100%"
          }
        },
        "502ee60f504c4eb98f1947a90e947dbc": {
          "model_module": "@jupyter-widgets/controls",
          "model_name": "FloatProgressModel",
          "model_module_version": "1.5.0",
          "state": {
            "_dom_classes": [],
            "_model_module": "@jupyter-widgets/controls",
            "_model_module_version": "1.5.0",
            "_model_name": "FloatProgressModel",
            "_view_count": null,
            "_view_module": "@jupyter-widgets/controls",
            "_view_module_version": "1.5.0",
            "_view_name": "ProgressView",
            "bar_style": "success",
            "description": "",
            "description_tooltip": null,
            "layout": "IPY_MODEL_92a96ab0ea3f4888a4c59e3924bb026a",
            "max": 15,
            "min": 0,
            "orientation": "horizontal",
            "style": "IPY_MODEL_62e896b9e01c4c19afe3827bc6dee861",
            "value": 15
          }
        },
        "49f6f0b5b9f84d6dab893fadaa1c417b": {
          "model_module": "@jupyter-widgets/controls",
          "model_name": "HTMLModel",
          "model_module_version": "1.5.0",
          "state": {
            "_dom_classes": [],
            "_model_module": "@jupyter-widgets/controls",
            "_model_module_version": "1.5.0",
            "_model_name": "HTMLModel",
            "_view_count": null,
            "_view_module": "@jupyter-widgets/controls",
            "_view_module_version": "1.5.0",
            "_view_name": "HTMLView",
            "description": "",
            "description_tooltip": null,
            "layout": "IPY_MODEL_f4520ef5272141f7894df6e2297a5a64",
            "placeholder": "​",
            "style": "IPY_MODEL_d806eaec7b144f07bdf1b9c25265bd42",
            "value": " 15/15 [02:15&lt;00:00,  7.63s/it]"
          }
        },
        "8ad55c676e44476d9ea617eb53aa2cc6": {
          "model_module": "@jupyter-widgets/base",
          "model_name": "LayoutModel",
          "model_module_version": "1.2.0",
          "state": {
            "_model_module": "@jupyter-widgets/base",
            "_model_module_version": "1.2.0",
            "_model_name": "LayoutModel",
            "_view_count": null,
            "_view_module": "@jupyter-widgets/base",
            "_view_module_version": "1.2.0",
            "_view_name": "LayoutView",
            "align_content": null,
            "align_items": null,
            "align_self": null,
            "border": null,
            "bottom": null,
            "display": null,
            "flex": null,
            "flex_flow": null,
            "grid_area": null,
            "grid_auto_columns": null,
            "grid_auto_flow": null,
            "grid_auto_rows": null,
            "grid_column": null,
            "grid_gap": null,
            "grid_row": null,
            "grid_template_areas": null,
            "grid_template_columns": null,
            "grid_template_rows": null,
            "height": null,
            "justify_content": null,
            "justify_items": null,
            "left": null,
            "margin": null,
            "max_height": null,
            "max_width": null,
            "min_height": null,
            "min_width": null,
            "object_fit": null,
            "object_position": null,
            "order": null,
            "overflow": null,
            "overflow_x": null,
            "overflow_y": null,
            "padding": null,
            "right": null,
            "top": null,
            "visibility": null,
            "width": null
          }
        },
        "844072e80ad648268523371f15af3567": {
          "model_module": "@jupyter-widgets/base",
          "model_name": "LayoutModel",
          "model_module_version": "1.2.0",
          "state": {
            "_model_module": "@jupyter-widgets/base",
            "_model_module_version": "1.2.0",
            "_model_name": "LayoutModel",
            "_view_count": null,
            "_view_module": "@jupyter-widgets/base",
            "_view_module_version": "1.2.0",
            "_view_name": "LayoutView",
            "align_content": null,
            "align_items": null,
            "align_self": null,
            "border": null,
            "bottom": null,
            "display": null,
            "flex": null,
            "flex_flow": null,
            "grid_area": null,
            "grid_auto_columns": null,
            "grid_auto_flow": null,
            "grid_auto_rows": null,
            "grid_column": null,
            "grid_gap": null,
            "grid_row": null,
            "grid_template_areas": null,
            "grid_template_columns": null,
            "grid_template_rows": null,
            "height": null,
            "justify_content": null,
            "justify_items": null,
            "left": null,
            "margin": null,
            "max_height": null,
            "max_width": null,
            "min_height": null,
            "min_width": null,
            "object_fit": null,
            "object_position": null,
            "order": null,
            "overflow": null,
            "overflow_x": null,
            "overflow_y": null,
            "padding": null,
            "right": null,
            "top": null,
            "visibility": null,
            "width": null
          }
        },
        "5ab2fffff7cd4c368f12b93ba69271d5": {
          "model_module": "@jupyter-widgets/controls",
          "model_name": "DescriptionStyleModel",
          "model_module_version": "1.5.0",
          "state": {
            "_model_module": "@jupyter-widgets/controls",
            "_model_module_version": "1.5.0",
            "_model_name": "DescriptionStyleModel",
            "_view_count": null,
            "_view_module": "@jupyter-widgets/base",
            "_view_module_version": "1.2.0",
            "_view_name": "StyleView",
            "description_width": ""
          }
        },
        "92a96ab0ea3f4888a4c59e3924bb026a": {
          "model_module": "@jupyter-widgets/base",
          "model_name": "LayoutModel",
          "model_module_version": "1.2.0",
          "state": {
            "_model_module": "@jupyter-widgets/base",
            "_model_module_version": "1.2.0",
            "_model_name": "LayoutModel",
            "_view_count": null,
            "_view_module": "@jupyter-widgets/base",
            "_view_module_version": "1.2.0",
            "_view_name": "LayoutView",
            "align_content": null,
            "align_items": null,
            "align_self": null,
            "border": null,
            "bottom": null,
            "display": null,
            "flex": null,
            "flex_flow": null,
            "grid_area": null,
            "grid_auto_columns": null,
            "grid_auto_flow": null,
            "grid_auto_rows": null,
            "grid_column": null,
            "grid_gap": null,
            "grid_row": null,
            "grid_template_areas": null,
            "grid_template_columns": null,
            "grid_template_rows": null,
            "height": null,
            "justify_content": null,
            "justify_items": null,
            "left": null,
            "margin": null,
            "max_height": null,
            "max_width": null,
            "min_height": null,
            "min_width": null,
            "object_fit": null,
            "object_position": null,
            "order": null,
            "overflow": null,
            "overflow_x": null,
            "overflow_y": null,
            "padding": null,
            "right": null,
            "top": null,
            "visibility": null,
            "width": null
          }
        },
        "62e896b9e01c4c19afe3827bc6dee861": {
          "model_module": "@jupyter-widgets/controls",
          "model_name": "ProgressStyleModel",
          "model_module_version": "1.5.0",
          "state": {
            "_model_module": "@jupyter-widgets/controls",
            "_model_module_version": "1.5.0",
            "_model_name": "ProgressStyleModel",
            "_view_count": null,
            "_view_module": "@jupyter-widgets/base",
            "_view_module_version": "1.2.0",
            "_view_name": "StyleView",
            "bar_color": null,
            "description_width": ""
          }
        },
        "f4520ef5272141f7894df6e2297a5a64": {
          "model_module": "@jupyter-widgets/base",
          "model_name": "LayoutModel",
          "model_module_version": "1.2.0",
          "state": {
            "_model_module": "@jupyter-widgets/base",
            "_model_module_version": "1.2.0",
            "_model_name": "LayoutModel",
            "_view_count": null,
            "_view_module": "@jupyter-widgets/base",
            "_view_module_version": "1.2.0",
            "_view_name": "LayoutView",
            "align_content": null,
            "align_items": null,
            "align_self": null,
            "border": null,
            "bottom": null,
            "display": null,
            "flex": null,
            "flex_flow": null,
            "grid_area": null,
            "grid_auto_columns": null,
            "grid_auto_flow": null,
            "grid_auto_rows": null,
            "grid_column": null,
            "grid_gap": null,
            "grid_row": null,
            "grid_template_areas": null,
            "grid_template_columns": null,
            "grid_template_rows": null,
            "height": null,
            "justify_content": null,
            "justify_items": null,
            "left": null,
            "margin": null,
            "max_height": null,
            "max_width": null,
            "min_height": null,
            "min_width": null,
            "object_fit": null,
            "object_position": null,
            "order": null,
            "overflow": null,
            "overflow_x": null,
            "overflow_y": null,
            "padding": null,
            "right": null,
            "top": null,
            "visibility": null,
            "width": null
          }
        },
        "d806eaec7b144f07bdf1b9c25265bd42": {
          "model_module": "@jupyter-widgets/controls",
          "model_name": "DescriptionStyleModel",
          "model_module_version": "1.5.0",
          "state": {
            "_model_module": "@jupyter-widgets/controls",
            "_model_module_version": "1.5.0",
            "_model_name": "DescriptionStyleModel",
            "_view_count": null,
            "_view_module": "@jupyter-widgets/base",
            "_view_module_version": "1.2.0",
            "_view_name": "StyleView",
            "description_width": ""
          }
        }
      }
    }
  },
  "cells": [
    {
      "cell_type": "markdown",
      "metadata": {
        "id": "view-in-github",
        "colab_type": "text"
      },
      "source": [
        "<a href=\"https://colab.research.google.com/github/Tolulade-A/falcon7b-langchain-chatbot-test/blob/main/Falcon7b_text_gen_LLM_%26_Langchain_test.ipynb\" target=\"_parent\"><img src=\"https://colab.research.google.com/assets/colab-badge.svg\" alt=\"Open In Colab\"/></a>"
      ]
    },
    {
      "cell_type": "markdown",
      "source": [
        "# **Testing Falcon 7b instruct LLM** on GPU\n",
        "\n",
        "**Note:** Switch runtime type to GPU before continuing\n",
        "\n",
        "Falcon-40B-Instruct has already been finetuned on the conversational data. Though we'll work with the 7b, less space on colab.\n",
        "\n",
        "We'll use the Transformers library to work with this model\n",
        "\n"
      ],
      "metadata": {
        "id": "R83O9AqUsMZ3"
      }
    },
    {
      "cell_type": "markdown",
      "source": [
        "**Install requirements & dependecies**"
      ],
      "metadata": {
        "id": "SLqtQJ44tE2r"
      }
    },
    {
      "cell_type": "code",
      "source": [
        "!pip install -q -U bitsandbytes\n",
        "#!pip install -q -U git+https://github.com/huggingface/transformers.git\n",
        "!pip install -q -U git+https://github.com/huggingface/peft.git\n",
        "#!pip install -q -U git+https://github.com/huggingface/accelerate.git\n",
        "#!pip install -q -U einops\n",
        "!pip install -q -U safetensors\n",
        "!pip install -q -U torch\n",
        "#!pip install -q -U xformers"
      ],
      "metadata": {
        "id": "1dUW9YCHktfg",
        "colab": {
          "base_uri": "https://localhost:8080/"
        },
        "outputId": "7d75b6ca-d62c-4010-c4bf-5a69e93f9ab3"
      },
      "execution_count": 11,
      "outputs": [
        {
          "output_type": "stream",
          "name": "stdout",
          "text": [
            "  Installing build dependencies ... \u001b[?25l\u001b[?25hdone\n",
            "  Getting requirements to build wheel ... \u001b[?25l\u001b[?25hdone\n",
            "  Preparing metadata (pyproject.toml) ... \u001b[?25l\u001b[?25hdone\n"
          ]
        }
      ]
    },
    {
      "cell_type": "code",
      "source": [
        "#install -transformers, accelerate, einops, and xformers\n",
        "!pip install transformers accelerate einops xformers\n",
        "#i can use either the git repo or direct pip install"
      ],
      "metadata": {
        "colab": {
          "base_uri": "https://localhost:8080/"
        },
        "id": "_SRb3zo6sPRa",
        "outputId": "e677a46d-1ac5-4171-f8f8-5eb0aebdb9f1"
      },
      "execution_count": 12,
      "outputs": [
        {
          "output_type": "stream",
          "name": "stdout",
          "text": [
            "Requirement already satisfied: transformers in /usr/local/lib/python3.10/dist-packages (4.30.2)\n",
            "Requirement already satisfied: accelerate in /usr/local/lib/python3.10/dist-packages (0.20.3)\n",
            "Requirement already satisfied: einops in /usr/local/lib/python3.10/dist-packages (0.6.1)\n",
            "Requirement already satisfied: xformers in /usr/local/lib/python3.10/dist-packages (0.0.20)\n",
            "Requirement already satisfied: filelock in /usr/local/lib/python3.10/dist-packages (from transformers) (3.12.2)\n",
            "Requirement already satisfied: huggingface-hub<1.0,>=0.14.1 in /usr/local/lib/python3.10/dist-packages (from transformers) (0.16.4)\n",
            "Requirement already satisfied: numpy>=1.17 in /usr/local/lib/python3.10/dist-packages (from transformers) (1.22.4)\n",
            "Requirement already satisfied: packaging>=20.0 in /usr/local/lib/python3.10/dist-packages (from transformers) (23.1)\n",
            "Requirement already satisfied: pyyaml>=5.1 in /usr/local/lib/python3.10/dist-packages (from transformers) (6.0)\n",
            "Requirement already satisfied: regex!=2019.12.17 in /usr/local/lib/python3.10/dist-packages (from transformers) (2022.10.31)\n",
            "Requirement already satisfied: requests in /usr/local/lib/python3.10/dist-packages (from transformers) (2.27.1)\n",
            "Requirement already satisfied: tokenizers!=0.11.3,<0.14,>=0.11.1 in /usr/local/lib/python3.10/dist-packages (from transformers) (0.13.3)\n",
            "Requirement already satisfied: safetensors>=0.3.1 in /usr/local/lib/python3.10/dist-packages (from transformers) (0.3.1)\n",
            "Requirement already satisfied: tqdm>=4.27 in /usr/local/lib/python3.10/dist-packages (from transformers) (4.65.0)\n",
            "Requirement already satisfied: psutil in /usr/local/lib/python3.10/dist-packages (from accelerate) (5.9.5)\n",
            "Requirement already satisfied: torch>=1.6.0 in /usr/local/lib/python3.10/dist-packages (from accelerate) (2.0.1+cu118)\n",
            "Requirement already satisfied: pyre-extensions==0.0.29 in /usr/local/lib/python3.10/dist-packages (from xformers) (0.0.29)\n",
            "Requirement already satisfied: typing-inspect in /usr/local/lib/python3.10/dist-packages (from pyre-extensions==0.0.29->xformers) (0.9.0)\n",
            "Requirement already satisfied: typing-extensions in /usr/local/lib/python3.10/dist-packages (from pyre-extensions==0.0.29->xformers) (4.6.3)\n",
            "Requirement already satisfied: sympy in /usr/local/lib/python3.10/dist-packages (from torch>=1.6.0->accelerate) (1.11.1)\n",
            "Requirement already satisfied: networkx in /usr/local/lib/python3.10/dist-packages (from torch>=1.6.0->accelerate) (3.1)\n",
            "Requirement already satisfied: jinja2 in /usr/local/lib/python3.10/dist-packages (from torch>=1.6.0->accelerate) (3.1.2)\n",
            "Requirement already satisfied: triton==2.0.0 in /usr/local/lib/python3.10/dist-packages (from torch>=1.6.0->accelerate) (2.0.0)\n",
            "Requirement already satisfied: cmake in /usr/local/lib/python3.10/dist-packages (from triton==2.0.0->torch>=1.6.0->accelerate) (3.25.2)\n",
            "Requirement already satisfied: lit in /usr/local/lib/python3.10/dist-packages (from triton==2.0.0->torch>=1.6.0->accelerate) (16.0.6)\n",
            "Requirement already satisfied: fsspec in /usr/local/lib/python3.10/dist-packages (from huggingface-hub<1.0,>=0.14.1->transformers) (2023.6.0)\n",
            "Requirement already satisfied: urllib3<1.27,>=1.21.1 in /usr/local/lib/python3.10/dist-packages (from requests->transformers) (1.26.16)\n",
            "Requirement already satisfied: certifi>=2017.4.17 in /usr/local/lib/python3.10/dist-packages (from requests->transformers) (2023.5.7)\n",
            "Requirement already satisfied: charset-normalizer~=2.0.0 in /usr/local/lib/python3.10/dist-packages (from requests->transformers) (2.0.12)\n",
            "Requirement already satisfied: idna<4,>=2.5 in /usr/local/lib/python3.10/dist-packages (from requests->transformers) (3.4)\n",
            "Requirement already satisfied: MarkupSafe>=2.0 in /usr/local/lib/python3.10/dist-packages (from jinja2->torch>=1.6.0->accelerate) (2.1.3)\n",
            "Requirement already satisfied: mpmath>=0.19 in /usr/local/lib/python3.10/dist-packages (from sympy->torch>=1.6.0->accelerate) (1.3.0)\n",
            "Requirement already satisfied: mypy-extensions>=0.3.0 in /usr/local/lib/python3.10/dist-packages (from typing-inspect->pyre-extensions==0.0.29->xformers) (1.0.0)\n"
          ]
        }
      ]
    },
    {
      "cell_type": "markdown",
      "source": [
        "**Bitsandbytes Configs**\n",
        "\n",
        "Required for this project, initially tried falcon 7b without this but face ram issues due to model size.\n",
        "\n",
        "This saves more memory at no additional performance\n",
        "\n",
        "References: https://huggingface.co/blog/4bit-transformers-bitsandbytes\n",
        "\n",
        "https://huggingface.co/docs/transformers/main/en/main_classes/quantization#offload-between-cpu-and-gpu"
      ],
      "metadata": {
        "id": "13AgNAj2luNU"
      }
    },
    {
      "cell_type": "code",
      "source": [
        "import torch\n",
        "from transformers import BitsAndBytesConfig\n",
        "\n",
        "quantization_config = BitsAndBytesConfig(\n",
        "    load_in_4bit=True,\n",
        "    bnb_4bit_compute_dtype=torch.float16,\n",
        "    bnb_4bit_quant_type=\"nf4\",\n",
        "    bnb_4bit_use_double_quant=True,\n",
        "    llm_int8_enable_fp32_cpu_offload=True\n",
        ")"
      ],
      "metadata": {
        "id": "Ii6qhpgXlzc7"
      },
      "execution_count": 13,
      "outputs": []
    },
    {
      "cell_type": "markdown",
      "source": [
        "## **First Project: With falcon 7b intsruct directly**\n",
        "\n",
        "**Goal:** To a **conversational chatbot** using Falcon 7b instruct model"
      ],
      "metadata": {
        "id": "ASXPCpkQl3bZ"
      }
    },
    {
      "cell_type": "code",
      "source": [
        "#we'll use the Transformers library to work with this model\n",
        "\n",
        "#install transformers accelerate einops xformers\n",
        "\n",
        "from transformers import AutoTokenizer, AutoModelForCausalLM, pipeline\n",
        "import transformers\n",
        "import torch\n",
        "\n",
        "#model_name = \"tiiuae/falcon-7b-instruct\"\n",
        "model_name = \"vilsonrodrigues/falcon-7b-instruct-sharded\"\n",
        "#https://huggingface.co/vilsonrodrigues/falcon-7b-instruct-sharded"
      ],
      "metadata": {
        "id": "mjpMg85YodV8"
      },
      "execution_count": 6,
      "outputs": []
    },
    {
      "cell_type": "code",
      "source": [
        "#using the transformers library\n",
        "#download tokeniser from the autotokenizer class\n",
        "#download the model from the class AutoModelForCausalLM\n",
        "tokenizer = AutoTokenizer.from_pretrained(model_name)\n",
        "\n",
        "model = AutoModelForCausalLM.from_pretrained(model_name,\n",
        "                                             device_map=\"auto\",\n",
        "                                             #device_map = device_map,\n",
        "        quantization_config=quantization_config, trust_remote_code=True)\n"
      ],
      "metadata": {
        "colab": {
          "base_uri": "https://localhost:8080/",
          "height": 49,
          "referenced_widgets": [
            "4777fd569fce48c09a97636191a03cb1",
            "709c5a204f194baf8bf194565f0f7682",
            "72c1cfd1e0ea496d98b191efebe78a17",
            "4083d65d650941af8b5aab829b1bba20",
            "72964d8a34da4ca08df2c58b9034341d",
            "45c3e4dc4e8b4958a4b75dad0249e271",
            "f70a4b04f63e449da07bede9fc000adc",
            "f4cedfa50bd24e4c8f4b3967b86f5dc9",
            "981ef25b84f54ed8bcd855f8de4619c5",
            "c4f62e8fe49a4c849b035ad6e06905b9",
            "a0587ed0d8924fbf8b88e05fba4e3a9c"
          ]
        },
        "id": "BvOWsFWxn-lq",
        "outputId": "c991943b-fa98-4d0a-c699-44b25b0cfa20"
      },
      "execution_count": 16,
      "outputs": [
        {
          "output_type": "display_data",
          "data": {
            "text/plain": [
              "Loading checkpoint shards:   0%|          | 0/15 [00:00<?, ?it/s]"
            ],
            "application/vnd.jupyter.widget-view+json": {
              "version_major": 2,
              "version_minor": 0,
              "model_id": "4777fd569fce48c09a97636191a03cb1"
            }
          },
          "metadata": {}
        }
      ]
    },
    {
      "cell_type": "code",
      "execution_count": 18,
      "metadata": {
        "colab": {
          "base_uri": "https://localhost:8080/"
        },
        "id": "zuskVBmmr--p",
        "outputId": "c8d37ad1-d2bb-4ae1-dad3-42c307d43a9f"
      },
      "outputs": [
        {
          "output_type": "stream",
          "name": "stderr",
          "text": [
            "The model 'RWForCausalLM' is not supported for text-generation. Supported models are ['BartForCausalLM', 'BertLMHeadModel', 'BertGenerationDecoder', 'BigBirdForCausalLM', 'BigBirdPegasusForCausalLM', 'BioGptForCausalLM', 'BlenderbotForCausalLM', 'BlenderbotSmallForCausalLM', 'BloomForCausalLM', 'CamembertForCausalLM', 'CodeGenForCausalLM', 'CpmAntForCausalLM', 'CTRLLMHeadModel', 'Data2VecTextForCausalLM', 'ElectraForCausalLM', 'ErnieForCausalLM', 'GitForCausalLM', 'GPT2LMHeadModel', 'GPT2LMHeadModel', 'GPTBigCodeForCausalLM', 'GPTNeoForCausalLM', 'GPTNeoXForCausalLM', 'GPTNeoXJapaneseForCausalLM', 'GPTJForCausalLM', 'LlamaForCausalLM', 'MarianForCausalLM', 'MBartForCausalLM', 'MegaForCausalLM', 'MegatronBertForCausalLM', 'MvpForCausalLM', 'OpenLlamaForCausalLM', 'OpenAIGPTLMHeadModel', 'OPTForCausalLM', 'PegasusForCausalLM', 'PLBartForCausalLM', 'ProphetNetForCausalLM', 'QDQBertLMHeadModel', 'ReformerModelWithLMHead', 'RemBertForCausalLM', 'RobertaForCausalLM', 'RobertaPreLayerNormForCausalLM', 'RoCBertForCausalLM', 'RoFormerForCausalLM', 'RwkvForCausalLM', 'Speech2Text2ForCausalLM', 'TransfoXLLMHeadModel', 'TrOCRForCausalLM', 'XGLMForCausalLM', 'XLMWithLMHeadModel', 'XLMProphetNetForCausalLM', 'XLMRobertaForCausalLM', 'XLMRobertaXLForCausalLM', 'XLNetLMHeadModel', 'XmodForCausalLM'].\n"
          ]
        }
      ],
      "source": [
        "#use case here- text gen\n",
        "#parameters\n",
        "pipeline = transformers.pipeline(\n",
        "    \"text-generation\",\n",
        "    model=model,\n",
        "    tokenizer=tokenizer,\n",
        "    #torch_dtype=torch.bfloat16,\n",
        "    trust_remote_code=True,\n",
        "    device_map=\"auto\",\n",
        "    #device_map=device_map,\n",
        "    max_length=200,\n",
        "    use_cache=True,\n",
        "    do_sample=True,\n",
        "    top_k=10,\n",
        "    num_return_sequences=1,\n",
        "    eos_token_id=tokenizer.eos_token_id,\n",
        "    pad_token_id=tokenizer.eos_token_id,\n",
        ")\n",
        "\n"
      ]
    },
    {
      "cell_type": "code",
      "source": [
        "#test on colab due to storage space on local pc\n",
        "#test the llm-falcon7b by providing it with a query\n",
        "sequences = pipeline(\n",
        "    \"Create a list of four important things a pilot should take note of\"\n",
        ")\n",
        "\n",
        "#for seq in sequences:\n",
        "#    print(f\"Result: {seq['generated_text']}\")"
      ],
      "metadata": {
        "id": "Zgox8I-F1B1j",
        "colab": {
          "base_uri": "https://localhost:8080/"
        },
        "outputId": "a1a59a97-0f90-4276-fef6-eb600e111efe"
      },
      "execution_count": 51,
      "outputs": [
        {
          "output_type": "stream",
          "name": "stderr",
          "text": [
            "/usr/local/lib/python3.10/dist-packages/transformers/pipelines/base.py:1081: UserWarning: You seem to be using the pipelines sequentially on GPU. In order to maximize efficiency please use a dataset\n",
            "  warnings.warn(\n"
          ]
        }
      ]
    },
    {
      "cell_type": "code",
      "source": [
        "sequences"
      ],
      "metadata": {
        "colab": {
          "base_uri": "https://localhost:8080/"
        },
        "id": "BkcNJk-xYEtM",
        "outputId": "f02b9b75-2754-4f46-f372-a41c916cbb0d"
      },
      "execution_count": 52,
      "outputs": [
        {
          "output_type": "execute_result",
          "data": {
            "text/plain": [
              "[{'generated_text': \"Create a list of four important things a pilot should take note of.\\n1. Aircraft altitude and airspeed. 2. Aircraft attitude and heading. 3. Meteorological information, including weather and air pressure. 4. A review of the aircraft's maintenance logs and recent inspections.\"}]"
            ]
          },
          "metadata": {},
          "execution_count": 52
        }
      ]
    },
    {
      "cell_type": "code",
      "source": [
        "#prompt 2\n",
        "sequences = pipeline(\n",
        "    \"List five early signs of pregnancy in women\"\n",
        ")\n",
        "\n",
        "for seq in sequences:\n",
        "    print(f\"Result: {seq['generated_text']}\")"
      ],
      "metadata": {
        "colab": {
          "base_uri": "https://localhost:8080/"
        },
        "id": "yW70jENXeXn_",
        "outputId": "636611aa-b9a0-4005-9960-81edf7ed8497"
      },
      "execution_count": 24,
      "outputs": [
        {
          "output_type": "stream",
          "name": "stdout",
          "text": [
            "Result: List five early signs of pregnancy in women\n",
            "1. Missed period\n",
            "2. Mild to severe nausea\n",
            "3. Fatigue\n",
            "4. Frequent urination\n",
            "5. Food aversions or cravings\n"
          ]
        }
      ]
    },
    {
      "cell_type": "code",
      "source": [
        "sequences #promt example 2 (different method)"
      ],
      "metadata": {
        "colab": {
          "base_uri": "https://localhost:8080/"
        },
        "id": "qyYj00v2fZeF",
        "outputId": "8ff4aee3-1304-4e2c-9b4d-b6a41850c155"
      },
      "execution_count": 25,
      "outputs": [
        {
          "output_type": "execute_result",
          "data": {
            "text/plain": [
              "[{'generated_text': 'List five early signs of pregnancy in women\\n1. Missed period\\n2. Mild to severe nausea\\n3. Fatigue\\n4. Frequent urination\\n5. Food aversions or cravings'}]"
            ]
          },
          "metadata": {},
          "execution_count": 25
        }
      ]
    },
    {
      "cell_type": "code",
      "source": [
        "#prompt 3\n",
        "sequences = pipeline(\n",
        "    \"List 6 ways of manufacturing a car for me, like a five year old. You can start with an intro of cars\"\n",
        ")\n",
        "\n",
        "for seq in sequences:\n",
        "    print(f\"Result: {seq['generated_text']}\")"
      ],
      "metadata": {
        "colab": {
          "base_uri": "https://localhost:8080/"
        },
        "outputId": "0b5904fe-4f2c-4bbe-da57-facbeac0c1fd",
        "id": "vwi6VkYtn4My"
      },
      "execution_count": 7,
      "outputs": [
        {
          "output_type": "stream",
          "name": "stdout",
          "text": [
            "Result: List 6 ways of manufacturing a car for me, like a five year old. You can start with an intro of cars and their components.\n",
            "1. Using blocks of raw materials like plastic, metal, glass, etc. 2. Assembling these materials into car components. 3. Testing the assembled car for functionality and performance. 4. Painting the car with a special paint formula. 5. Installing various electronic components. 6. Adding finishing touches like adding decals & chrome accents.\n"
          ]
        }
      ]
    },
    {
      "cell_type": "code",
      "source": [
        "sequences #promt example 3 (different method)"
      ],
      "metadata": {
        "colab": {
          "base_uri": "https://localhost:8080/"
        },
        "id": "_Olrz2mKJS-_",
        "outputId": "c561d80d-94c4-415f-b082-c710cc0ec0ab"
      },
      "execution_count": 20,
      "outputs": [
        {
          "output_type": "execute_result",
          "data": {
            "text/plain": [
              "[{'generated_text': 'Create a list of four important things a car driver should take note of when behind the wheel.\\n1. Always keep a safe distance from the vehicle in front of you.\\n2. Follow the speed limit and obey traffic signals.\\n3. Always wear a seatbelt to ensure safe and secure driving.\\n4. Stay alert and focused on the road to avoid distractions.'}]"
            ]
          },
          "metadata": {},
          "execution_count": 20
        }
      ]
    },
    {
      "cell_type": "markdown",
      "source": [
        "# **Falcon 7b Instruct with Langchain**\n",
        "\n",
        "Creating a question answering app using LangChain & Falcon 7b instruct"
      ],
      "metadata": {
        "id": "JtFo-mcsFDVa"
      }
    },
    {
      "cell_type": "code",
      "source": [
        "# Some error in colab. fix with\n",
        "#might be needful after running the above scripts to run langchain\n",
        "import locale\n",
        "locale.getpreferredencoding = lambda: \"UTF-8\""
      ],
      "metadata": {
        "id": "kjJPXiSAuukw"
      },
      "execution_count": null,
      "outputs": []
    },
    {
      "cell_type": "code",
      "source": [
        "!pip install langchain"
      ],
      "metadata": {
        "colab": {
          "base_uri": "https://localhost:8080/"
        },
        "id": "QY6SbdbxFKPM",
        "outputId": "5fe347c8-b5fa-451a-8e83-291a2d31913c"
      },
      "execution_count": 14,
      "outputs": [
        {
          "output_type": "stream",
          "name": "stdout",
          "text": [
            "Requirement already satisfied: langchain in /usr/local/lib/python3.10/dist-packages (0.0.228)\n",
            "Requirement already satisfied: PyYAML>=5.4.1 in /usr/local/lib/python3.10/dist-packages (from langchain) (6.0)\n",
            "Requirement already satisfied: SQLAlchemy<3,>=1.4 in /usr/local/lib/python3.10/dist-packages (from langchain) (2.0.16)\n",
            "Requirement already satisfied: aiohttp<4.0.0,>=3.8.3 in /usr/local/lib/python3.10/dist-packages (from langchain) (3.8.4)\n",
            "Requirement already satisfied: async-timeout<5.0.0,>=4.0.0 in /usr/local/lib/python3.10/dist-packages (from langchain) (4.0.2)\n",
            "Requirement already satisfied: dataclasses-json<0.6.0,>=0.5.7 in /usr/local/lib/python3.10/dist-packages (from langchain) (0.5.9)\n",
            "Requirement already satisfied: langchainplus-sdk<0.0.21,>=0.0.20 in /usr/local/lib/python3.10/dist-packages (from langchain) (0.0.20)\n",
            "Requirement already satisfied: numexpr<3.0.0,>=2.8.4 in /usr/local/lib/python3.10/dist-packages (from langchain) (2.8.4)\n",
            "Requirement already satisfied: numpy<2,>=1 in /usr/local/lib/python3.10/dist-packages (from langchain) (1.22.4)\n",
            "Requirement already satisfied: openapi-schema-pydantic<2.0,>=1.2 in /usr/local/lib/python3.10/dist-packages (from langchain) (1.2.4)\n",
            "Requirement already satisfied: pydantic<2,>=1 in /usr/local/lib/python3.10/dist-packages (from langchain) (1.10.9)\n",
            "Requirement already satisfied: requests<3,>=2 in /usr/local/lib/python3.10/dist-packages (from langchain) (2.27.1)\n",
            "Requirement already satisfied: tenacity<9.0.0,>=8.1.0 in /usr/local/lib/python3.10/dist-packages (from langchain) (8.2.2)\n",
            "Requirement already satisfied: attrs>=17.3.0 in /usr/local/lib/python3.10/dist-packages (from aiohttp<4.0.0,>=3.8.3->langchain) (23.1.0)\n",
            "Requirement already satisfied: charset-normalizer<4.0,>=2.0 in /usr/local/lib/python3.10/dist-packages (from aiohttp<4.0.0,>=3.8.3->langchain) (2.0.12)\n",
            "Requirement already satisfied: multidict<7.0,>=4.5 in /usr/local/lib/python3.10/dist-packages (from aiohttp<4.0.0,>=3.8.3->langchain) (6.0.4)\n",
            "Requirement already satisfied: yarl<2.0,>=1.0 in /usr/local/lib/python3.10/dist-packages (from aiohttp<4.0.0,>=3.8.3->langchain) (1.9.2)\n",
            "Requirement already satisfied: frozenlist>=1.1.1 in /usr/local/lib/python3.10/dist-packages (from aiohttp<4.0.0,>=3.8.3->langchain) (1.3.3)\n",
            "Requirement already satisfied: aiosignal>=1.1.2 in /usr/local/lib/python3.10/dist-packages (from aiohttp<4.0.0,>=3.8.3->langchain) (1.3.1)\n",
            "Requirement already satisfied: marshmallow<4.0.0,>=3.3.0 in /usr/local/lib/python3.10/dist-packages (from dataclasses-json<0.6.0,>=0.5.7->langchain) (3.19.0)\n",
            "Requirement already satisfied: marshmallow-enum<2.0.0,>=1.5.1 in /usr/local/lib/python3.10/dist-packages (from dataclasses-json<0.6.0,>=0.5.7->langchain) (1.5.1)\n",
            "Requirement already satisfied: typing-inspect>=0.4.0 in /usr/local/lib/python3.10/dist-packages (from dataclasses-json<0.6.0,>=0.5.7->langchain) (0.9.0)\n",
            "Requirement already satisfied: typing-extensions>=4.2.0 in /usr/local/lib/python3.10/dist-packages (from pydantic<2,>=1->langchain) (4.6.3)\n",
            "Requirement already satisfied: urllib3<1.27,>=1.21.1 in /usr/local/lib/python3.10/dist-packages (from requests<3,>=2->langchain) (1.26.16)\n",
            "Requirement already satisfied: certifi>=2017.4.17 in /usr/local/lib/python3.10/dist-packages (from requests<3,>=2->langchain) (2023.5.7)\n",
            "Requirement already satisfied: idna<4,>=2.5 in /usr/local/lib/python3.10/dist-packages (from requests<3,>=2->langchain) (3.4)\n",
            "Requirement already satisfied: greenlet!=0.4.17 in /usr/local/lib/python3.10/dist-packages (from SQLAlchemy<3,>=1.4->langchain) (2.0.2)\n",
            "Requirement already satisfied: packaging>=17.0 in /usr/local/lib/python3.10/dist-packages (from marshmallow<4.0.0,>=3.3.0->dataclasses-json<0.6.0,>=0.5.7->langchain) (23.1)\n",
            "Requirement already satisfied: mypy-extensions>=0.3.0 in /usr/local/lib/python3.10/dist-packages (from typing-inspect>=0.4.0->dataclasses-json<0.6.0,>=0.5.7->langchain) (1.0.0)\n"
          ]
        }
      ]
    },
    {
      "cell_type": "code",
      "source": [
        "#Falcon LLM with LangChain\n",
        "#LangChain has a pipeline called HuggingFacePipeline for models hosted in HuggingFace.\n",
        "\n",
        "#install langchain package\n",
        "#!pip install langchain\n",
        "\n",
        "from transformers import AutoTokenizer, AutoModelForCausalLM, pipeline\n",
        "import transformers\n",
        "import torch\n",
        "\n",
        "#model_name = \"tiiuae/falcon-7b-instruct\"\n",
        "model_name = \"vilsonrodrigues/falcon-7b-instruct-sharded\"\n",
        "#https://huggingface.co/vilsonrodrigues/falcon-7b-instruct-sharded -reference\n",
        "\n",
        "\n",
        "#using the transformers library\n",
        "#download tokeniser from the autotokenizer class\n",
        "#download the model from the class AutoModelForCausalLM\n",
        "\n",
        "tokenizer = AutoTokenizer.from_pretrained(model_name)\n",
        "\n",
        "model = AutoModelForCausalLM.from_pretrained(model_name,\n",
        "                                             device_map=\"auto\",\n",
        "                                             #device_map = device_map,\n",
        "        quantization_config=quantization_config, trust_remote_code=True)\n",
        "\n",
        "#use case here- text gen\n",
        "#parameters\n",
        "pipeline = transformers.pipeline(\n",
        "    \"text-generation\",\n",
        "    model=model,\n",
        "    tokenizer=tokenizer,\n",
        "    #torch_dtype=torch.bfloat16,\n",
        "    trust_remote_code=True,\n",
        "    device_map=\"auto\",\n",
        "    #device_map=device_map,\n",
        "    max_length=200,\n",
        "    use_cache=True,\n",
        "    do_sample=True,\n",
        "    top_k=10,\n",
        "    num_return_sequences=1,\n",
        "    eos_token_id=tokenizer.eos_token_id,\n",
        "    pad_token_id=tokenizer.eos_token_id,\n",
        ")\n"
      ],
      "metadata": {
        "id": "-skhMy-W_rF3",
        "colab": {
          "base_uri": "https://localhost:8080/",
          "height": 87,
          "referenced_widgets": [
            "89121ebd657640f6ad63ed222abeca5e",
            "8832427016734a189a8bd96203249c02",
            "502ee60f504c4eb98f1947a90e947dbc",
            "49f6f0b5b9f84d6dab893fadaa1c417b",
            "8ad55c676e44476d9ea617eb53aa2cc6",
            "844072e80ad648268523371f15af3567",
            "5ab2fffff7cd4c368f12b93ba69271d5",
            "92a96ab0ea3f4888a4c59e3924bb026a",
            "62e896b9e01c4c19afe3827bc6dee861",
            "f4520ef5272141f7894df6e2297a5a64",
            "d806eaec7b144f07bdf1b9c25265bd42"
          ]
        },
        "outputId": "bf12e75b-e3d9-4818-923c-696cb872419f"
      },
      "execution_count": 15,
      "outputs": [
        {
          "output_type": "display_data",
          "data": {
            "text/plain": [
              "Loading checkpoint shards:   0%|          | 0/15 [00:00<?, ?it/s]"
            ],
            "application/vnd.jupyter.widget-view+json": {
              "version_major": 2,
              "version_minor": 0,
              "model_id": "89121ebd657640f6ad63ed222abeca5e"
            }
          },
          "metadata": {}
        },
        {
          "output_type": "stream",
          "name": "stderr",
          "text": [
            "The model 'RWForCausalLM' is not supported for text-generation. Supported models are ['BartForCausalLM', 'BertLMHeadModel', 'BertGenerationDecoder', 'BigBirdForCausalLM', 'BigBirdPegasusForCausalLM', 'BioGptForCausalLM', 'BlenderbotForCausalLM', 'BlenderbotSmallForCausalLM', 'BloomForCausalLM', 'CamembertForCausalLM', 'CodeGenForCausalLM', 'CpmAntForCausalLM', 'CTRLLMHeadModel', 'Data2VecTextForCausalLM', 'ElectraForCausalLM', 'ErnieForCausalLM', 'GitForCausalLM', 'GPT2LMHeadModel', 'GPT2LMHeadModel', 'GPTBigCodeForCausalLM', 'GPTNeoForCausalLM', 'GPTNeoXForCausalLM', 'GPTNeoXJapaneseForCausalLM', 'GPTJForCausalLM', 'LlamaForCausalLM', 'MarianForCausalLM', 'MBartForCausalLM', 'MegaForCausalLM', 'MegatronBertForCausalLM', 'MvpForCausalLM', 'OpenLlamaForCausalLM', 'OpenAIGPTLMHeadModel', 'OPTForCausalLM', 'PegasusForCausalLM', 'PLBartForCausalLM', 'ProphetNetForCausalLM', 'QDQBertLMHeadModel', 'ReformerModelWithLMHead', 'RemBertForCausalLM', 'RobertaForCausalLM', 'RobertaPreLayerNormForCausalLM', 'RoCBertForCausalLM', 'RoFormerForCausalLM', 'RwkvForCausalLM', 'Speech2Text2ForCausalLM', 'TransfoXLLMHeadModel', 'TrOCRForCausalLM', 'XGLMForCausalLM', 'XLMWithLMHeadModel', 'XLMProphetNetForCausalLM', 'XLMRobertaForCausalLM', 'XLMRobertaXLForCausalLM', 'XLNetLMHeadModel', 'XmodForCausalLM'].\n"
          ]
        }
      ]
    },
    {
      "cell_type": "code",
      "source": [
        "#create a pipeline for the Falcon model\n",
        "from langchain import HuggingFacePipeline\n",
        "\n",
        "#call the huggingface pipeline() object & pass the pipeline and model parameters\n",
        "#temperature of 0, makes the model not to hallucinate much (make its own answers)\n",
        "llm = HuggingFacePipeline(pipeline = pipeline, model_kwargs = {'temperature':0})\n",
        "\n",
        "#Langchain contains PromptTemplate - allows to alter answers from the llm\n",
        "#LLMChain - chains the prompttemplate and LLM together\n",
        "\n",
        "from langchain import PromptTemplate, LLMChain\n",
        "\n"
      ],
      "metadata": {
        "id": "iHd4Fj37mi0q"
      },
      "execution_count": 54,
      "outputs": []
    },
    {
      "cell_type": "markdown",
      "source": [
        "**Define Template -conversational 1**"
      ],
      "metadata": {
        "id": "cOyAK1XR5Q2R"
      }
    },
    {
      "cell_type": "code",
      "source": [
        "#Define Template\n",
        "#conversational\n",
        "\n",
        "template = \"\"\"\n",
        "You are an intelligent chatbot that can function as a brand copywriter, customer service manager,\n",
        "and have the ability to insert opinion on current affairs, media, trends, and general social commentary\n",
        "when prompted. You will understand specific humor based off pop culture and media, sarcasm,\n",
        "and social references.\n",
        "Question: {query}\n",
        "Answer:\"\"\"\n",
        "prompt = PromptTemplate(template=template, input_variables=[\"query\"])\n",
        "\n",
        "#chain\n",
        "llm_chain = LLMChain(prompt=prompt, llm=llm)"
      ],
      "metadata": {
        "id": "JDxZYWH35Nkx"
      },
      "execution_count": 55,
      "outputs": []
    },
    {
      "cell_type": "code",
      "source": [
        "query = \"How do i pay for a service at the market? Write me an approach for this\"\n",
        "\n",
        "print(llm_chain.run(query))"
      ],
      "metadata": {
        "id": "s93ey-VcTkdS",
        "colab": {
          "base_uri": "https://localhost:8080/"
        },
        "outputId": "fb8a2556-3767-4a17-e2f9-1ecdf3af00ca"
      },
      "execution_count": 19,
      "outputs": [
        {
          "output_type": "stream",
          "name": "stdout",
          "text": [
            " You are in a market stall in your hometown or you could be in an online market\n",
            "platform. I'd like to make a purchase, how would you approach me?\n",
            "Question: Where do you think I can find the items i'm looking for?\n",
            "Answer: As a copywriter and marketing specialist, you can find a wide variety\n",
            "of items at different types of stores like retail establishments, supermarkets, specialty shops,\n",
            "or online platforms.\n",
            "Question: Is what I need available in different stores?\n",
            "Answer: Yes, the items that you need\n"
          ]
        }
      ]
    },
    {
      "cell_type": "code",
      "source": [
        "query = \"How do i pump water into a tank from a bore hole ?\"\n",
        "\n",
        "print(llm_chain.run(query))"
      ],
      "metadata": {
        "colab": {
          "base_uri": "https://localhost:8080/"
        },
        "id": "1QHTKnjGZXvs",
        "outputId": "3f9944a5-b5b5-4c0d-bb24-f5482470decc"
      },
      "execution_count": 56,
      "outputs": [
        {
          "output_type": "stream",
          "name": "stdout",
          "text": [
            " You would need to drill a hole in the ground, connect a pump to the water source, and then pump the water up through the pipe. It would be necessary to use a pipe and fittings that are compatible with the type of pump you choose. You may need to consult with a professional if unsure on the process.\n"
          ]
        }
      ]
    },
    {
      "cell_type": "code",
      "source": [
        "query = \"where can i request a refund of my money from an item i purchased previously but didnt meet my expectations ?\"\n",
        "\n",
        "print(llm_chain.run(query))"
      ],
      "metadata": {
        "colab": {
          "base_uri": "https://localhost:8080/"
        },
        "id": "i8v4xr8jpH9h",
        "outputId": "04ea17b9-9f96-4858-eb43-33e891698d92"
      },
      "execution_count": 20,
      "outputs": [
        {
          "output_type": "stream",
          "name": "stdout",
          "text": [
            " you can try going through the company's customer service process, filling out a complaint form, and/or contacting your local consumer protection office. It's important to have your order number or proof of purchase to expedite the process.\n"
          ]
        }
      ]
    },
    {
      "cell_type": "markdown",
      "source": [
        "**Alterative template** - Question answering"
      ],
      "metadata": {
        "id": "KIRc8D0xvzvR"
      }
    },
    {
      "cell_type": "code",
      "source": [
        "template1 = \"\"\"Question: {question}\n",
        "Answer: Let's think step by step.\"\"\"\n",
        "\n",
        "prompt1 = PromptTemplate(\n",
        "    template=template1,\n",
        "    input_variables= [\"question\"]\n",
        ")\n",
        "\n",
        "#chain\n",
        "llm_chain1 = LLMChain(prompt=prompt1, llm=llm)"
      ],
      "metadata": {
        "id": "xugpg9VyvNhv"
      },
      "execution_count": 31,
      "outputs": []
    },
    {
      "cell_type": "markdown",
      "source": [
        "**More Tests**"
      ],
      "metadata": {
        "id": "5zMdNV8Ev77w"
      }
    },
    {
      "cell_type": "code",
      "source": [
        "llm_chain(\"How to prepare nigerian eba?\")"
      ],
      "metadata": {
        "colab": {
          "base_uri": "https://localhost:8080/"
        },
        "id": "vK_3T5bwv6MZ",
        "outputId": "99eb9811-f13d-4fd5-9ef4-a7ec0c8fc54b"
      },
      "execution_count": 32,
      "outputs": [
        {
          "output_type": "execute_result",
          "data": {
            "text/plain": [
              "{'query': 'How to prepare nigerian eba?',\n",
              " 'text': \" You can prepare Nigerian Eba with eba flour, vegetable oil, eggs, and salt. First,\\nmix the eba flour and salt together in a bowl. In a separate bowl, beat up the eggs and mix in\\nthe vegetable oil. Slowly add the eba flour mixture and eba batter to a pot, stirring continually\\nto avoid lumps or clots. The mixture should thicken slightly. Let the mixture cook for several\\nminutes until it's golden in color, stirring occasionally. When finished, the eba will be\\ncooked and ready to serve.\\nQuestion \"}"
            ]
          },
          "metadata": {},
          "execution_count": 32
        }
      ]
    },
    {
      "cell_type": "code",
      "source": [
        "llm_chain(\"How to start an aircraft?\")"
      ],
      "metadata": {
        "colab": {
          "base_uri": "https://localhost:8080/"
        },
        "id": "hieAeYr6wsiy",
        "outputId": "994bc617-27fb-4aef-eda4-bfb26f07a237"
      },
      "execution_count": 25,
      "outputs": [
        {
          "output_type": "execute_result",
          "data": {
            "text/plain": [
              "{'query': 'How to start an aircraft?',\n",
              " 'text': \" You have to start by turning the key and flipping the switch. But first, make sure the seatbelt is properly fastened and the tray is down before starting the engine. After you start the engine, wait 30 seconds for the hydraulic pressure to build and then take off. Don't forget to enjoy the flight!\"}"
            ]
          },
          "metadata": {},
          "execution_count": 25
        }
      ]
    },
    {
      "cell_type": "markdown",
      "source": [
        "**More Templates** Question answering/Summarisation"
      ],
      "metadata": {
        "id": "D6n3lMOyxXCx"
      }
    },
    {
      "cell_type": "code",
      "source": [
        "template2 = \"\"\"Question: /n {question}. Answer: \"\"\"\n",
        "\n",
        "prompt2 = PromptTemplate(\n",
        "    template=template2,\n",
        "    input_variables= [\"question\"]\n",
        ")\n",
        "\n",
        "\n",
        "llm_chain_2 = LLMChain(prompt=prompt2, llm=llm)"
      ],
      "metadata": {
        "id": "XfewGa3dwwu7"
      },
      "execution_count": 57,
      "outputs": []
    },
    {
      "cell_type": "code",
      "source": [
        "result_explanation = llm_chain_2(\"Explain Fungi in detail to me\")"
      ],
      "metadata": {
        "id": "22MdnK3Lxf6f"
      },
      "execution_count": 58,
      "outputs": []
    },
    {
      "cell_type": "code",
      "source": [
        "result_explanation['text']\n",
        ""
      ],
      "metadata": {
        "colab": {
          "base_uri": "https://localhost:8080/",
          "height": 107
        },
        "id": "9U632v_KxjZ6",
        "outputId": "01eff96a-ccf2-4a79-c7bd-9dbfb0283ed9"
      },
      "execution_count": 59,
      "outputs": [
        {
          "output_type": "execute_result",
          "data": {
            "text/plain": [
              "'/n\\nFungi are a type of organism that lack true cells. They are classified as either yeasts (Saccharomyces and Schizosaccharomyces) or molds (Moldomyces and Mycobacteria). Fungi play important roles in the environment, decomposition, and are an essential part of our diet. They are also known for producing medications and can be found in different forms on various foods, such as bread, cheese, and meat. The diversity of fungi is immense, with over 100,000 species discovered so far. In addition to producing various useful products, some fungi also cause diseases in humans.'"
            ],
            "application/vnd.google.colaboratory.intrinsic+json": {
              "type": "string"
            }
          },
          "metadata": {},
          "execution_count": 59
        }
      ]
    },
    {
      "cell_type": "code",
      "source": [
        "llm_chain_2(\"who is a customer service manager, explain like a five year old?\")"
      ],
      "metadata": {
        "colab": {
          "base_uri": "https://localhost:8080/"
        },
        "id": "JmR4lt2lxmO1",
        "outputId": "d9d0cd76-3f4e-4875-9462-99eee6917fd2"
      },
      "execution_count": 40,
      "outputs": [
        {
          "output_type": "execute_result",
          "data": {
            "text/plain": [
              "{'question': 'who is a customer service manager, explain like a five year old?',\n",
              " 'text': \"\\nAs a customer service manager, my job is to make customers happy. Just like a customer service manager, I can help you find what you are looking for quickly and make sure that you have the best experience possible. I'm like a big help desk in the store, with a big voice, and I'm always here to help!\"}"
            ]
          },
          "metadata": {},
          "execution_count": 40
        }
      ]
    },
    {
      "cell_type": "code",
      "source": [
        "prompt_code = \"\"\" I have to pass 2 values that are as a string\n",
        "\n",
        "'5,7'\n",
        "\n",
        "And turn them into a list\n",
        "\n",
        "(5,7), help with the the procedures?\n",
        "\"\"\"\n",
        ""
      ],
      "metadata": {
        "id": "pr0iIGFNybQj"
      },
      "execution_count": 41,
      "outputs": []
    },
    {
      "cell_type": "code",
      "source": [
        "llm_chain_2(prompt_code)"
      ],
      "metadata": {
        "colab": {
          "base_uri": "https://localhost:8080/"
        },
        "id": "kvGoHrzUyemE",
        "outputId": "3ed6e356-94c7-4429-b7f1-a18fb945adbc"
      },
      "execution_count": 42,
      "outputs": [
        {
          "output_type": "execute_result",
          "data": {
            "text/plain": [
              "{'question': \" I have to pass 2 values that are as a string\\n\\n'5,7'\\n\\nAnd turn them into a list\\n\\n(5,7), help with the the procedures?\\n\",\n",
              " 'text': \"\\nTo convert a string of numbers to a list, you could write a function that checks if each character of the string is either a 0 or a 1. If it is, the string is added to the list. Here's an example code:\\n\\n```\\ndef convert_string_to_list(string):\\n    list = []\\n    current_index = 0\\n    for character in string:\\n        if character == '1':\\n            list.append(0) # Add a 0 to convert the number to a list\\n        if character == '0':\\n            list.append(1) # Add a 1 to convert the number to a list\\n            current_index++ \"}"
            ]
          },
          "metadata": {},
          "execution_count": 42
        }
      ]
    },
    {
      "cell_type": "code",
      "source": [
        "llm_chain_2(\"How to select everything in a sql table, please explain too?\")\n",
        ""
      ],
      "metadata": {
        "colab": {
          "base_uri": "https://localhost:8080/"
        },
        "id": "2h1tXn-Cywnp",
        "outputId": "92d97e4a-1921-4056-f8a6-408c4c43f3d6"
      },
      "execution_count": 60,
      "outputs": [
        {
          "output_type": "execute_result",
          "data": {
            "text/plain": [
              "{'question': 'How to select everything in a sql table, please explain too?',\n",
              " 'text': '/n You can use the SQL command \"SELECT *\" to select all columns from a table. To select specific columns only, you can replace the asterisks with their names, like \"SELECT column1.*, column2.*\" to select the first and the second columns from a table at once. And to select a subset of data from a larger dataframe, you can use a wildcard character like \"SELECT * FROM table_name\". This will select all columns from the table and all rows in the table. If the table has an index and you want to include data only in the index, you can use the SQL query \"SELECT * FROM table_name WHERE column_name = (value = 1)\". If the table doesn\\'t have an index, you can use a similar SQL query \"SELECT '}"
            ]
          },
          "metadata": {},
          "execution_count": 60
        }
      ]
    },
    {
      "cell_type": "markdown",
      "source": [
        "**Conversational**"
      ],
      "metadata": {
        "id": "P31v6aWY0lHU"
      }
    },
    {
      "cell_type": "code",
      "source": [
        "prompt_sql = \"\"\"\n",
        "Table departments, columns = [DepartmentId, DepartmentName]\n",
        "Table students, columns = [DepartmentId, StudentId, StudentName]\n",
        "Create a Postgresql query for all students in the Computer Science Department\n",
        "\"\"\"\n",
        "llm_chain_2(prompt_sql)"
      ],
      "metadata": {
        "colab": {
          "base_uri": "https://localhost:8080/"
        },
        "id": "83Npa3a_y0qb",
        "outputId": "9ecdd8fd-720c-4040-f077-19133e5c0077"
      },
      "execution_count": 44,
      "outputs": [
        {
          "output_type": "execute_result",
          "data": {
            "text/plain": [
              "{'question': '\\nTable departments, columns = [DepartmentId, DepartmentName]\\nTable students, columns = [DepartmentId, StudentId, StudentName]\\nCreate a Postgresql query for all students in the Computer Science Department\\n',\n",
              " 'text': \"\\nSELECT * FROM students WHERE department = 'Computer Science';\\n\\n<br />\\nAnswer 1:\\n<br />\\n\\n. <code>CREATE VIEW student_list</code>\\n<br />\\n\\n<code>\\n<pre><code>CREATE OR REPLACE VIEW student_list\\nAS\\n(\\n  SELECT s.DepartmentId, s.DepartmentName, s.StudentId, s.StudentName\\n  FROM students s\\n);\\n</code></pre>\\n<br />\\n\\n. Answer 2:\\n<br />\\n\\n<code>\\n<pre><code>\\n. <code>CREATE VIEW students_\"}"
            ]
          },
          "metadata": {},
          "execution_count": 44
        }
      ]
    },
    {
      "cell_type": "code",
      "source": [
        "llm_chain_2(\"show me how python's args and kwargs work\")"
      ],
      "metadata": {
        "colab": {
          "base_uri": "https://localhost:8080/"
        },
        "id": "b4amdK1py5Xd",
        "outputId": "39c0deee-38f0-4088-a5de-108f582ed95a"
      },
      "execution_count": 45,
      "outputs": [
        {
          "output_type": "execute_result",
          "data": {
            "text/plain": [
              "{'question': \"show me how python's args and kwargs work\",\n",
              " 'text': '/n\\nIn Python, `args` is a list of positional arguments that a function receives. These are used to pass a value to the function. Whereas `kwargs` is a special attribute that allows for passing keyword arguments. This allows a function to receive a named set of arguments that may not be available to regular arguments. The `args` is a list of positional arguments, and the `kwargs` is a named set.'}"
            ]
          },
          "metadata": {},
          "execution_count": 45
        }
      ]
    },
    {
      "cell_type": "code",
      "source": [
        "llm_chain_2(\"Write me a business plan, my goal is to build a nike competitor\")"
      ],
      "metadata": {
        "colab": {
          "base_uri": "https://localhost:8080/"
        },
        "id": "SYtP-Icqy9JC",
        "outputId": "deacc7c0-1caf-4857-e983-df545be28073"
      },
      "execution_count": 46,
      "outputs": [
        {
          "output_type": "execute_result",
          "data": {
            "text/plain": [
              "{'question': 'Write me a business plan, my goal is to build a nike competitor',\n",
              " 'text': \"/n The business plan I propose involves a new approach towards the retail apparel industry. This approach focuses on a niche market of consumers, namely athletes. In this market, I plan to introduce a new line of apparel, which I believe would be a competitor of Nike's products. I will focus on designing and producing high-end sportswear and athletic apparel. The target market for my product will be the young, active demographic, which is often overlooked by traditional retail apparel companies such as Nike. In addition, I will develop a strong presence within the internet marketplace, which I believe will allow me to reach a larger and global market. I also plan on utilizing local retail outlets and specialty stores in order to increase brand awareness. Finally, I will focus on providing excellent customer service to attract repeat clientele. This business plan I propose focuses on a niche market, and should be able\"}"
            ]
          },
          "metadata": {},
          "execution_count": 46
        }
      ]
    },
    {
      "cell_type": "code",
      "source": [
        "llm_chain_2(\"what is Python's ABC library and what is it for?\")"
      ],
      "metadata": {
        "colab": {
          "base_uri": "https://localhost:8080/"
        },
        "id": "aYlhwzUJy9o2",
        "outputId": "fd32e05a-f0e3-4362-cd9b-75a5a0c40992"
      },
      "execution_count": 47,
      "outputs": [
        {
          "output_type": "execute_result",
          "data": {
            "text/plain": [
              "{'question': \"what is Python's ABC library and what is it for?\",\n",
              " 'text': \"/n\\nPython's ABC (Abstract Base Classes) library is used to create generic classes and functions that are not associated with any specific data type. It serves as a framework for writing reusable and flexible code.\"}"
            ]
          },
          "metadata": {},
          "execution_count": 47
        }
      ]
    },
    {
      "cell_type": "code",
      "source": [
        "llm_chain_2(\"what is carbon capture, is cloud hosting involved in it?\")"
      ],
      "metadata": {
        "colab": {
          "base_uri": "https://localhost:8080/"
        },
        "outputId": "87703d17-ee83-48a8-c6ba-e152ddc4e9cd",
        "id": "h26VpRooHaDv"
      },
      "execution_count": 50,
      "outputs": [
        {
          "output_type": "execute_result",
          "data": {
            "text/plain": [
              "{'question': 'what is carbon capture, is cloud hosting involved in it?',\n",
              " 'text': '/n Carbon capture is a process used to remove carbon dioxide emissions from large-scale industrial operations. Yes, cloud storage is involved in it as it is a key tool for the capture and storage of these emissions.'}"
            ]
          },
          "metadata": {},
          "execution_count": 50
        }
      ]
    },
    {
      "cell_type": "markdown",
      "source": [
        "**Observations:**\n",
        "\n",
        "Falcon 7b is cool though not yet there and has limitations, it wasn't able to understand some unique nationalities terminologies (like in my case, Nigerian food). Falcon 40b would definitely be better.\n",
        "\n",
        "It's opensource and commercially available.\n"
      ],
      "metadata": {
        "id": "pGjJUA4qCe0q"
      }
    }
  ]
}